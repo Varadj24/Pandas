{
 "cells": [
  {
   "cell_type": "code",
   "execution_count": 1,
   "id": "38ca8087-c5f0-429c-8e3a-a7db754e8560",
   "metadata": {},
   "outputs": [],
   "source": [
    "#Q1. Write a code to print the data present in the second row of the dataframe, df"
   ]
  },
  {
   "cell_type": "code",
   "execution_count": 2,
   "id": "5fc3655b-a427-407e-8b9f-bdd32a57ad92",
   "metadata": {},
   "outputs": [],
   "source": [
    "import pandas as pd\n",
    "\n",
    "course_name = ['Data Science', 'Machine Learning', 'Big Data', 'Data Engineer']\n",
    "duration = [2, 3, 6, 4]\n",
    "\n",
    "df = pd.DataFrame(data={'course_name': course_name, 'duration': duration})"
   ]
  },
  {
   "cell_type": "code",
   "execution_count": 3,
   "id": "3d63c8b7-649c-41cd-a7d5-e9eb3552ece9",
   "metadata": {},
   "outputs": [
    {
     "name": "stdout",
     "output_type": "stream",
     "text": [
      "course_name    Machine Learning\n",
      "duration                      3\n",
      "Name: 1, dtype: object\n"
     ]
    }
   ],
   "source": [
    "# Print data in the second row of the DataFrame\n",
    "second_row_data = df.iloc[1]\n",
    "print(second_row_data)\n"
   ]
  },
  {
   "cell_type": "code",
   "execution_count": null,
   "id": "77834707-8703-46f0-8ed7-f4d1aff7d115",
   "metadata": {},
   "outputs": [],
   "source": []
  },
  {
   "cell_type": "code",
   "execution_count": 4,
   "id": "1d0a8760-bbaf-4ccb-a5cb-f4e384377a22",
   "metadata": {},
   "outputs": [],
   "source": [
    "#Q2. What is the difference between the functions loc and iloc in pandas.DataFrame?"
   ]
  },
  {
   "cell_type": "code",
   "execution_count": null,
   "id": "c60e92df-0e0c-4bb3-8930-f1ea6b669601",
   "metadata": {},
   "outputs": [],
   "source": [
    "'''\n",
    "1. loc:\n",
    "loc is label-based indexing, meaning that you can use labels (row/column names) to slice data.\n",
    "It includes the last element of the range when slicing.\n",
    "Example :-\n",
    "df.loc[0, 'course_name']  \n",
    "df.loc[:, 'duration']     \n",
    "\n",
    "2. iloc:\n",
    "iloc is integer-location based indexing, where you use integer positions to slice data.\n",
    "It excludes the last element of the range when slicing.\n",
    "Example :-\n",
    "df.iloc[0, 1]  \n",
    "df.iloc[:, 1]  \n"
   ]
  },
  {
   "cell_type": "code",
   "execution_count": null,
   "id": "6045217a-3735-47c6-b326-eaec3cdbdc03",
   "metadata": {},
   "outputs": [],
   "source": []
  },
  {
   "cell_type": "code",
   "execution_count": 5,
   "id": "dcf36edd-c659-49a3-8e2b-72c9295a31bb",
   "metadata": {},
   "outputs": [],
   "source": [
    "#Q3. Reindex the given dataframe using a variable, reindex = [3,0,1,2] and store it in the variable, new_df \n",
    "#then find the output for both new_df.loc[2] and new_df.iloc[2]."
   ]
  },
  {
   "cell_type": "code",
   "execution_count": 6,
   "id": "3c04c6dd-3d82-439f-b182-b28a51f1ef9e",
   "metadata": {},
   "outputs": [
    {
     "name": "stdout",
     "output_type": "stream",
     "text": [
      "Output for new_df.loc[2]:\n",
      "column_1    0.885337\n",
      "column_2    0.134075\n",
      "column_3    0.362066\n",
      "column_4    0.353523\n",
      "column_5    0.394195\n",
      "column_6    0.231245\n",
      "Name: 2, dtype: float64\n",
      "\n",
      "Output for new_df.iloc[2]:\n",
      "column_1    0.448467\n",
      "column_2    0.894907\n",
      "column_3    0.043195\n",
      "column_4    0.288808\n",
      "column_5    0.132558\n",
      "column_6    0.073419\n",
      "Name: 1, dtype: float64\n"
     ]
    }
   ],
   "source": [
    "import numpy as np\n",
    "\n",
    "columns = ['column_1', 'column_2', 'column_3', 'column_4', 'column_5', 'column_6']\n",
    "indices = [1, 2, 3, 4, 5, 6]\n",
    "\n",
    "\n",
    "df1 = pd.DataFrame(np.random.rand(6, 6), columns=columns, index=indices)\n",
    "\n",
    "\n",
    "reindex = [3, 0, 1, 2]\n",
    "new_df = df1.reindex(reindex)\n",
    "\n",
    "=\n",
    "output_loc = new_df.loc[2]\n",
    "output_iloc = new_df.iloc[2]\n",
    "\n",
    "print(\"Output for new_df.loc[2]:\")\n",
    "print(output_loc)\n",
    "print(\"\\nOutput for new_df.iloc[2]:\")\n",
    "print(output_iloc)\n"
   ]
  },
  {
   "cell_type": "code",
   "execution_count": null,
   "id": "3fae0ba9-6bce-456d-9e2d-1518eec7acce",
   "metadata": {},
   "outputs": [],
   "source": []
  },
  {
   "cell_type": "code",
   "execution_count": 7,
   "id": "e5b71f3a-4807-42f9-885d-e7ae283b8cd8",
   "metadata": {},
   "outputs": [],
   "source": [
    "#Q4. Write a code to find the following statistical measurements for the above dataframe df1 :\n",
    "#(i) \tmean of each and every column present in the dataframe.\n",
    "#(ii) standard deviation of column, ‘column_2’"
   ]
  },
  {
   "cell_type": "code",
   "execution_count": 8,
   "id": "6e83c4fb-2e64-4908-bfbb-5ebf09074a1b",
   "metadata": {},
   "outputs": [
    {
     "name": "stdout",
     "output_type": "stream",
     "text": [
      "Mean of each column:\n",
      "column_1    0.428620\n",
      "column_2    0.397314\n",
      "column_3    0.532476\n",
      "column_4    0.546006\n",
      "column_5    0.624846\n",
      "column_6    0.620262\n",
      "dtype: float64\n",
      "\n",
      "Standard Deviation of 'column_2':\n",
      "0.3185364162132706\n"
     ]
    }
   ],
   "source": [
    "columns = ['column_1', 'column_2', 'column_3', 'column_4', 'column_5', 'column_6']\n",
    "indices = [1, 2, 3, 4, 5, 6]\n",
    "df1 = pd.DataFrame(np.random.rand(6, 6), columns=columns, index=indices)\n",
    "\n",
    "\n",
    "column_means = df1.mean()\n",
    "print(\"Mean of each column:\")\n",
    "print(column_means)\n",
    "\n",
    "\n",
    "std_dev_column_2 = df1['column_2'].std()\n",
    "print(\"\\nStandard Deviation of 'column_2':\")\n",
    "print(std_dev_column_2)"
   ]
  },
  {
   "cell_type": "code",
   "execution_count": 9,
   "id": "310ae7f2-f43d-4c01-b231-ec3ea9b0086f",
   "metadata": {},
   "outputs": [],
   "source": [
    "#Q5. Replace the data present in the second row of column, ‘column_2’ by a string variable then find the mean of column, column_2.\n",
    "#If you are getting errors in executing it then explain why.\n",
    "#[Hint: To replace the data use df1.loc[] and equate this to string data of your choice.]"
   ]
  },
  {
   "cell_type": "code",
   "execution_count": null,
   "id": "87e52b40-514d-4e3e-86e3-812ed9de2d2d",
   "metadata": {},
   "outputs": [],
   "source": [
    "columns = ['column_1', 'column_2', 'column_3', 'column_4', 'column_5', 'column_6']\n",
    "indices = [1, 2, 3, 4, 5, 6]\n",
    "df1 = pd.DataFrame(np.random.rand(6, 6), columns=columns, index=indices)\n",
    "\n",
    "# Replacing data in the second row of 'column_2' with a string variable\n",
    "df1.loc[2, 'column_2'] = 'example_string'\n",
    "\n",
    "# Attempting to calculate the mean of 'column_2' after replacing data with a string\n",
    "mean_column_2 = df1['column_2'].mean()\n",
    "\n",
    "print(\"Mean of 'column_2' after replacing data with a string variable:\")\n",
    "print(mean_column_2)"
   ]
  },
  {
   "cell_type": "code",
   "execution_count": null,
   "id": "ee2b3986-11a6-4db0-9fa2-d7c487859ea4",
   "metadata": {},
   "outputs": [],
   "source": []
  },
  {
   "cell_type": "code",
   "execution_count": 12,
   "id": "564276bb-11e1-4464-b525-b44340d9d615",
   "metadata": {},
   "outputs": [],
   "source": [
    "#Q6. What do you understand about the windows function in pandas and list the types of windows functions?"
   ]
  },
  {
   "cell_type": "code",
   "execution_count": null,
   "id": "1cf4585d-384b-43a5-be68-9f0f90de7f23",
   "metadata": {},
   "outputs": [],
   "source": [
    "'''In Pandas, window functions (also known as windowing or rolling functions) allow you to perform calculations on a subset of a DataFrame's rows specified by a window of fixed or variable size. These functions work on a sliding window of data, allowing you to perform various computations on different subsets of your data without explicitly looping through it. Window functions are very useful for time series data and other types of sequential data analysis.\n",
    "There are several types of window functions available in Pandas:\n",
    "\n",
    "1. **Rolling Windows Functions:**\n",
    "   - Rolling functions are used with time series data. They compute and return a new series of the same length, where each value corresponds to an operation on a fixed-size window of values from the original series.\n",
    "   - Example: `df['column'].rolling(window=3).mean()` calculates the rolling mean of 'column' with a window size of 3.\n",
    "\n",
    "2. **Expanding Windows Functions:**\n",
    "   - Expanding functions compute a statistic for all data points in a window that expands over time. It starts from the beginning of the series and includes all data points up to the current point in the window.\n",
    "   - Example: `df['column'].expanding().mean()` calculates the expanding mean of 'column'.\n",
    "\n",
    "3. **Exponentially Weighted Windows Functions:**\n",
    "   - Exponentially weighted functions compute the weighted average of a series, where more recent values are given higher weights.\n",
    "   - Example: `df['column'].ewm(span=3).mean()` calculates the exponentially weighted mean of 'column' with a span of 3.\n",
    "\n",
    "4. **Window Functions with Custom Functions:**\n",
    "   - You can also use custom aggregation functions with window functions using the `apply` method.\n",
    "   - Example: `df['column'].rolling(window=3).apply(lambda x: my_custom_function(x))` applies a custom function to a rolling window of size 3."
   ]
  },
  {
   "cell_type": "code",
   "execution_count": null,
   "id": "6bfbcdf2-8f35-4e8d-b505-ab06c3f24882",
   "metadata": {},
   "outputs": [],
   "source": []
  },
  {
   "cell_type": "code",
   "execution_count": 13,
   "id": "f48f0139-1660-4c10-a13c-9e4d0e471c25",
   "metadata": {},
   "outputs": [],
   "source": [
    "#Q7. Write a code to print only the current month and year at the time of answering this question.\n",
    "#[Hint: Use pandas.datetime function]"
   ]
  },
  {
   "cell_type": "code",
   "execution_count": 16,
   "id": "6daf0e49-fd70-4700-b7a4-0e48d21e5a8d",
   "metadata": {},
   "outputs": [
    {
     "name": "stdout",
     "output_type": "stream",
     "text": [
      "Current Month: 10\n",
      "Current Year: 2023\n"
     ]
    },
    {
     "name": "stderr",
     "output_type": "stream",
     "text": [
      "/tmp/ipykernel_92/764693403.py:1: FutureWarning: The parsing of 'now' in pd.to_datetime without `utc=True` is deprecated. In a future version, this will match Timestamp('now') and Timestamp.now()\n",
      "  current_datetime = pd.to_datetime('now')\n"
     ]
    }
   ],
   "source": [
    "current_datetime = pd.to_datetime('now')\n",
    "\n",
    "\n",
    "current_month = current_datetime.month\n",
    "current_year = current_datetime.year\n",
    "\n",
    "\n",
    "print(\"Current Month:\", current_month)\n",
    "print(\"Current Year:\", current_year)"
   ]
  },
  {
   "cell_type": "code",
   "execution_count": null,
   "id": "3d01a8d8-6532-44ec-a194-7935bc6efd2c",
   "metadata": {},
   "outputs": [],
   "source": []
  },
  {
   "cell_type": "code",
   "execution_count": 15,
   "id": "6832091c-b233-4a01-b835-a3cf82f0ea2c",
   "metadata": {},
   "outputs": [],
   "source": [
    "#Q8. Write a Python program that takes in two dates as input (in the format YYYY-MM-DD) and calculates the difference between them in days, hours, and minutes using Pandas time delta. The \n",
    "#program should prompt the user to enter the dates and display the result"
   ]
  },
  {
   "cell_type": "code",
   "execution_count": 17,
   "id": "287d7ad0-c952-4cde-8583-1dbd194c8700",
   "metadata": {},
   "outputs": [
    {
     "name": "stdin",
     "output_type": "stream",
     "text": [
      "Enter the start date (YYYY-MM-DD):  2001-08-24\n",
      "Enter the end date (YYYY-MM-DD):  2022-10-14\n"
     ]
    },
    {
     "name": "stdout",
     "output_type": "stream",
     "text": [
      "Difference: 7721 days, 0 hours, and 0 minutes.\n"
     ]
    }
   ],
   "source": [
    "def calculate_time_difference(start_date, end_date):\n",
    "    start_date = pd.to_datetime(start_date)\n",
    "    end_date = pd.to_datetime(end_date)\n",
    "    \n",
    "    time_difference = end_date - start_date\n",
    "    \n",
    "    days = time_difference.days\n",
    "    hours, remainder = divmod(time_difference.seconds, 3600)\n",
    "    minutes, _ = divmod(remainder, 60)\n",
    "    \n",
    "    return days, hours, minutes\n",
    "\n",
    "start_date = input(\"Enter the start date (YYYY-MM-DD): \")\n",
    "end_date = input(\"Enter the end date (YYYY-MM-DD): \")\n",
    "\n",
    "days, hours, minutes = calculate_time_difference(start_date, end_date)\n",
    "\n",
    "print(f\"Difference: {days} days, {hours} hours, and {minutes} minutes.\")"
   ]
  },
  {
   "cell_type": "code",
   "execution_count": null,
   "id": "36203b0b-c9b7-46c6-ae39-d9dc77c43704",
   "metadata": {},
   "outputs": [],
   "source": []
  },
  {
   "cell_type": "code",
   "execution_count": null,
   "id": "2a495b78-7d00-4133-9a1c-4af89a0ba9bf",
   "metadata": {},
   "outputs": [],
   "source": [
    "#Q9. Write a Python program that reads a CSV file containing categorical data and converts a specified \n",
    "#column to a categorical data type. The program should prompt the user to enter the file path, column name, and category order, and then display the sorted data"
   ]
  }
 ],
 "metadata": {
  "kernelspec": {
   "display_name": "Python 3 (ipykernel)",
   "language": "python",
   "name": "python3"
  },
  "language_info": {
   "codemirror_mode": {
    "name": "ipython",
    "version": 3
   },
   "file_extension": ".py",
   "mimetype": "text/x-python",
   "name": "python",
   "nbconvert_exporter": "python",
   "pygments_lexer": "ipython3",
   "version": "3.10.8"
  }
 },
 "nbformat": 4,
 "nbformat_minor": 5
}
