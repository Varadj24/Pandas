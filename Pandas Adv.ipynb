{
 "cells": [
  {
   "cell_type": "code",
   "execution_count": 1,
   "id": "d62042b8-d1b2-44f8-a613-b8f044a5f07f",
   "metadata": {},
   "outputs": [],
   "source": [
    "#Q1. List any five functions of the pandas library with execution."
   ]
  },
  {
   "cell_type": "code",
   "execution_count": null,
   "id": "2e4fc836-5c57-44de-bb77-7a34ad1a1404",
   "metadata": {},
   "outputs": [],
   "source": [
    "'''\n",
    "1).pd.read_csv()\n",
    "2).DataFrame.head()\n",
    "3).DataFrame.describe()\n",
    "4).DataFrame.groupby()\n",
    "5).DataFrame.to_csv()'''"
   ]
  },
  {
   "cell_type": "code",
   "execution_count": null,
   "id": "eed49bbc-723f-4db1-81e6-33b19b444f99",
   "metadata": {},
   "outputs": [],
   "source": []
  },
  {
   "cell_type": "code",
   "execution_count": 2,
   "id": "f76f13fc-33a3-4078-8cfb-0de005cd77ce",
   "metadata": {},
   "outputs": [],
   "source": [
    "#Q2. Given a Pandas DataFrame df with columns 'A', 'B', and 'C', write a Python function to re-index the \n",
    "#DataFrame with a new index that starts from 1 and increments by 2 for each row"
   ]
  },
  {
   "cell_type": "code",
   "execution_count": 3,
   "id": "2015fb7d-ec93-4c67-997b-8b67abfd3368",
   "metadata": {},
   "outputs": [],
   "source": [
    "import  pandas as pd\n",
    "\n",
    "data = {'A' : [10,20,30],\n",
    "        'B' : [40,50,60],\n",
    "        'C' : [70,80,90]}\n",
    "\n",
    "df = pd.DataFrame(data)\n",
    "\n",
    "def reindex_dataframe(df):\n",
    "    new_index = range(1, len(df)*2,2)\n",
    "    df_reindexed = df.set_index(pd.Index(new_index))\n",
    "    return df_reindexed\n",
    "\n",
    "df_reindexed = reindex_dataframe(df)\n"
   ]
  },
  {
   "cell_type": "code",
   "execution_count": 4,
   "id": "4757130a-6555-4885-842f-47d820c8d859",
   "metadata": {},
   "outputs": [
    {
     "data": {
      "text/html": [
       "<div>\n",
       "<style scoped>\n",
       "    .dataframe tbody tr th:only-of-type {\n",
       "        vertical-align: middle;\n",
       "    }\n",
       "\n",
       "    .dataframe tbody tr th {\n",
       "        vertical-align: top;\n",
       "    }\n",
       "\n",
       "    .dataframe thead th {\n",
       "        text-align: right;\n",
       "    }\n",
       "</style>\n",
       "<table border=\"1\" class=\"dataframe\">\n",
       "  <thead>\n",
       "    <tr style=\"text-align: right;\">\n",
       "      <th></th>\n",
       "      <th>A</th>\n",
       "      <th>B</th>\n",
       "      <th>C</th>\n",
       "    </tr>\n",
       "  </thead>\n",
       "  <tbody>\n",
       "    <tr>\n",
       "      <th>1</th>\n",
       "      <td>10</td>\n",
       "      <td>40</td>\n",
       "      <td>70</td>\n",
       "    </tr>\n",
       "    <tr>\n",
       "      <th>3</th>\n",
       "      <td>20</td>\n",
       "      <td>50</td>\n",
       "      <td>80</td>\n",
       "    </tr>\n",
       "    <tr>\n",
       "      <th>5</th>\n",
       "      <td>30</td>\n",
       "      <td>60</td>\n",
       "      <td>90</td>\n",
       "    </tr>\n",
       "  </tbody>\n",
       "</table>\n",
       "</div>"
      ],
      "text/plain": [
       "    A   B   C\n",
       "1  10  40  70\n",
       "3  20  50  80\n",
       "5  30  60  90"
      ]
     },
     "execution_count": 4,
     "metadata": {},
     "output_type": "execute_result"
    }
   ],
   "source": [
    "df_reindexed"
   ]
  },
  {
   "cell_type": "code",
   "execution_count": null,
   "id": "1f6ba5bf-e31c-41c1-a26d-8b613b20304a",
   "metadata": {},
   "outputs": [],
   "source": []
  },
  {
   "cell_type": "code",
   "execution_count": 16,
   "id": "bb5ac280-c86c-406f-a933-65673a4bec33",
   "metadata": {},
   "outputs": [],
   "source": [
    "#Q3. You have a Pandas DataFrame df with a column named 'Values'. \n",
    "#Write a Python function that iterates over the DataFrame and calculates the sum of the first three values in the 'Values' column. \n",
    "#The function should print the sum to the console"
   ]
  },
  {
   "cell_type": "code",
   "execution_count": 17,
   "id": "db041ce7-a263-4705-bdbe-728a81ab413a",
   "metadata": {},
   "outputs": [
    {
     "name": "stdout",
     "output_type": "stream",
     "text": [
      "Sum of the first three values: 60\n"
     ]
    }
   ],
   "source": [
    "data1 = {'Values': [10, 20, 30, 40, 50]}\n",
    "df = pd.DataFrame(data1)\n",
    "\n",
    "def calculate_sum_of_first_three_values(df):\n",
    "    first_three_values = df['Values'][:3]\n",
    "    sum_of_first_three_values = first_three_values.sum()\n",
    "    print(\"Sum of the first three values:\", sum_of_first_three_values)\n",
    "\n",
    "calculate_sum_of_first_three_values(df)\n"
   ]
  },
  {
   "cell_type": "code",
   "execution_count": null,
   "id": "9ca334d3-596c-4e9a-b9d3-66e40e80c145",
   "metadata": {},
   "outputs": [],
   "source": []
  },
  {
   "cell_type": "code",
   "execution_count": 18,
   "id": "e2be695b-0128-4e61-b6f0-590dc277fb07",
   "metadata": {},
   "outputs": [],
   "source": [
    "#Q4. Given a Pandas DataFrame df with a column 'Text', write a Python function to create a new column \n",
    "#'Word_Count' that contains the number of words in each row of the 'Text' column"
   ]
  },
  {
   "cell_type": "code",
   "execution_count": 21,
   "id": "99ed048a-2455-4b55-9517-379bf36b02e9",
   "metadata": {},
   "outputs": [
    {
     "name": "stdout",
     "output_type": "stream",
     "text": [
      "                                  Text  Word_Count\n",
      "0               This is a sample text.           5\n",
      "1      Count the number of words here.           6\n",
      "2  Another example with several words.           5\n"
     ]
    }
   ],
   "source": [
    "data2 = {'Text': ['This is a sample text.',\n",
    "                 'Count the number of words here.',\n",
    "                 'Another example with several words.']}\n",
    "\n",
    "df = pd.DataFrame(data2)\n",
    "\n",
    "def count_words(row):\n",
    "    return len(row['Text'].split())\n",
    "\n",
    "df['Word_Count'] = df.apply(count_words, axis=1)\n",
    "\n",
    "print(df)\n"
   ]
  },
  {
   "cell_type": "code",
   "execution_count": null,
   "id": "05383b84-1f94-443a-be39-6b5b6a723e5e",
   "metadata": {},
   "outputs": [],
   "source": []
  },
  {
   "cell_type": "code",
   "execution_count": 22,
   "id": "99c5e31a-0ded-4ee2-8c1d-530fec11130d",
   "metadata": {},
   "outputs": [],
   "source": [
    "#Q5. How are DataFrame.size() and DataFrame.shape() different?"
   ]
  },
  {
   "cell_type": "code",
   "execution_count": 23,
   "id": "f04d1a76-69fe-4f60-8ecf-a5dac64835b8",
   "metadata": {},
   "outputs": [
    {
     "name": "stdout",
     "output_type": "stream",
     "text": [
      "6\n"
     ]
    }
   ],
   "source": [
    "'''DataFrame.size:'''\n",
    "\n",
    "data4 = {'A': [1, 2, 3], 'B': [4, 5, 6]}\n",
    "df = pd.DataFrame(data4)\n",
    "print(df.size)"
   ]
  },
  {
   "cell_type": "code",
   "execution_count": 24,
   "id": "9461b94d-b35c-4ba8-b2af-c4d17b01e27c",
   "metadata": {},
   "outputs": [
    {
     "name": "stdout",
     "output_type": "stream",
     "text": [
      "(3, 2)\n"
     ]
    }
   ],
   "source": [
    "'''DataFrame.shape:'''\n",
    "data5 = {'A': [1, 2, 3], 'B': [4, 5, 6]}\n",
    "df = pd.DataFrame(data5)\n",
    "print(df.shape) "
   ]
  },
  {
   "cell_type": "code",
   "execution_count": null,
   "id": "0b6dfc95-f7d0-4ac4-8df8-dddfb9311aee",
   "metadata": {},
   "outputs": [],
   "source": []
  },
  {
   "cell_type": "code",
   "execution_count": 25,
   "id": "78125bd0-e6ef-4226-a285-23511ba49928",
   "metadata": {},
   "outputs": [],
   "source": [
    "#Q6. Which function of pandas do we use to read an excel file?"
   ]
  },
  {
   "cell_type": "code",
   "execution_count": null,
   "id": "ea2302b6-3965-4c4c-9807-d4e66b061b85",
   "metadata": {},
   "outputs": [],
   "source": [
    "\n",
    "'''df = pd.read_excel('file.xlsx')'''\n"
   ]
  },
  {
   "cell_type": "code",
   "execution_count": null,
   "id": "72be86d6-5afe-447b-897b-73a2c6808241",
   "metadata": {},
   "outputs": [],
   "source": []
  },
  {
   "cell_type": "code",
   "execution_count": 27,
   "id": "e0bdfe4f-f428-44cd-80a6-70ee31c4f513",
   "metadata": {},
   "outputs": [],
   "source": [
    "#Q7. You have a Pandas DataFrame df that contains a column named 'Email' that contains email \n",
    "#addresses in the format 'username@domain.com'. Write a Python function that creates a new column \n",
    "#'Username' in df that contains only the username part of each email address"
   ]
  },
  {
   "cell_type": "code",
   "execution_count": 28,
   "id": "3d321248-d58b-4fe2-9dfc-af7dbdbfe727",
   "metadata": {},
   "outputs": [
    {
     "name": "stdout",
     "output_type": "stream",
     "text": [
      "                       Email       Username\n",
      "0     varu.joshi@example.com     varu.joshi\n",
      "1  darshan.joshi@example.com  darshan.joshi\n",
      "2   prasad.joshi@example.com   prasad.joshi\n"
     ]
    }
   ],
   "source": [
    "data6 = {'Email': ['varu.joshi@example.com', 'darshan.joshi@example.com', 'prasad.joshi@example.com']}\n",
    "df = pd.DataFrame(data6)\n",
    "\n",
    "def extract_username(email):\n",
    "    return email.split('@')[0]\n",
    "\n",
    "df['Username'] = df['Email'].apply(extract_username)\n",
    "\n",
    "print(df)"
   ]
  },
  {
   "cell_type": "code",
   "execution_count": null,
   "id": "77ce9e2c-3b05-4692-91fd-c4af1c10d647",
   "metadata": {},
   "outputs": [],
   "source": []
  },
  {
   "cell_type": "code",
   "execution_count": null,
   "id": "ce7bd2db-51fa-40df-9721-f7d389730787",
   "metadata": {},
   "outputs": [],
   "source": [
    "#Q8. You have a Pandas DataFrame df with columns 'A', 'B', and 'C'.\n",
    "#Write a Python function that selects all rows where the value in column 'A' is \n",
    "#greater than 5 and the value in column 'B' is less than 10.\n",
    "#The function should return a new DataFrame that contains only the selected rows.\n",
    "#Your function should select the following rows:   A   B   C\n",
    "#1  8   2   7\n",
    "#4  9   1   2\n",
    "#The function should return a new DataFrame that contains only the selected rows."
   ]
  },
  {
   "cell_type": "code",
   "execution_count": 29,
   "id": "543252ad-e714-480a-8ac6-971a0045531c",
   "metadata": {},
   "outputs": [
    {
     "name": "stdout",
     "output_type": "stream",
     "text": [
      "   A  B  C\n",
      "0  8  2  7\n",
      "4  9  1  2\n"
     ]
    }
   ],
   "source": [
    "data7 = {'A': [8, 2, 6, 3, 9],\n",
    "        'B': [2, 7, 12, 5, 1],\n",
    "        'C': [7, 9, 4, 6, 2]}\n",
    "\n",
    "df = pd.DataFrame(data7)\n",
    "\n",
    "def filter_dataframe(df):\n",
    "    filtered_df = df[(df['A'] > 5) & (df['B'] < 10)]\n",
    "    return filtered_df\n",
    "\n",
    "selected_rows = filter_dataframe(df)\n",
    "\n",
    "print(selected_rows)\n"
   ]
  },
  {
   "cell_type": "code",
   "execution_count": null,
   "id": "1e115205-0a8d-482e-91c1-b61f77059bca",
   "metadata": {},
   "outputs": [],
   "source": []
  },
  {
   "cell_type": "code",
   "execution_count": 30,
   "id": "75f71a5a-605d-4627-b61b-9e431a7abf6c",
   "metadata": {},
   "outputs": [],
   "source": [
    "#Q9. Given a Pandas DataFrame df with a column 'Values', write a Python function to calculate the mean, \n",
    "#median, and standard deviation of the values in the 'Values' column"
   ]
  },
  {
   "cell_type": "code",
   "execution_count": 37,
   "id": "2d0d4370-1e33-4906-b51e-49d723c39757",
   "metadata": {},
   "outputs": [],
   "source": [
    "data8 = {'Values': [10, 20, 30, 40, 50]}\n",
    "df = pd.DataFrame(data8)\n",
    "\n",
    "def calculate_statistics(df):\n",
    "    mean_value = df['Values'].mean()\n",
    "    median_value = df['Values'].median()\n",
    "    std_deviation = df['Values'].std()\n",
    "    \n",
    "    print(\"Mean:\", mean_value)\n",
    "    print(\"Median:\", median_value)\n",
    "    print(\"Standard Deviation:\", std_deviation)\n",
    "\n",
    "    calculate_statistics(df)"
   ]
  },
  {
   "cell_type": "code",
   "execution_count": null,
   "id": "6cc67ca3-1553-4075-93ec-b9fe97c7610a",
   "metadata": {},
   "outputs": [],
   "source": []
  },
  {
   "cell_type": "code",
   "execution_count": 38,
   "id": "82d3b3b7-6946-45a9-8678-f3a9127ebcc4",
   "metadata": {},
   "outputs": [],
   "source": [
    "#Q10. Given a Pandas DataFrame df with a column 'Sales' and a column 'Date', write a Python function to \n",
    "#create a new column 'MovingAverage' that contains the moving average of the sales for the past 7 days \n",
    "#for each row in the DataFrame. The moving average should be calculated using a window of size 7 and \n",
    "#should include the current day"
   ]
  },
  {
   "cell_type": "code",
   "execution_count": 40,
   "id": "fb46d19e-4385-473d-9a53-87c3074ce748",
   "metadata": {},
   "outputs": [
    {
     "name": "stdout",
     "output_type": "stream",
     "text": [
      "   Sales       Date  MovingAverage\n",
      "0    100 2023-10-01     100.000000\n",
      "1    150 2023-10-02     125.000000\n",
      "2    200 2023-10-03     150.000000\n",
      "3    180 2023-10-04     157.500000\n",
      "4    220 2023-10-05     170.000000\n",
      "5    250 2023-10-06     183.333333\n",
      "6    210 2023-10-07     187.142857\n",
      "7    190 2023-10-08     200.000000\n",
      "8    230 2023-10-09     211.428571\n",
      "9    280 2023-10-10     222.857143\n"
     ]
    }
   ],
   "source": [
    "Data = {'Sales': [100, 150, 200, 180, 220, 250, 210, 190, 230, 280],\n",
    "        'Date': ['2023-10-01', '2023-10-02', '2023-10-03', '2023-10-04', '2023-10-05',\n",
    "                 '2023-10-06', '2023-10-07', '2023-10-08', '2023-10-09', '2023-10-10']}\n",
    "\n",
    "df = pd.DataFrame(Data)\n",
    "df['Date'] = pd.to_datetime(df['Date'])\n",
    "\n",
    "def calculate_moving_average(df, window_size=7):\n",
    "    df['MovingAverage'] = df['Sales'].rolling(window=window_size, min_periods=1).mean()\n",
    "    return df\n",
    "\n",
    "\n",
    "df = calculate_moving_average(df)\n",
    "\n",
    "\n",
    "print(df)\n"
   ]
  },
  {
   "cell_type": "code",
   "execution_count": null,
   "id": "f402daac-e6de-4495-bf97-10cc47b10d82",
   "metadata": {},
   "outputs": [],
   "source": []
  },
  {
   "cell_type": "code",
   "execution_count": 41,
   "id": "b55b2239-b166-4938-bd81-7f12ec8cd6d4",
   "metadata": {},
   "outputs": [],
   "source": [
    "#Q11. You have a Pandas DataFrame df with a column 'Date'. Write a Python function that creates a new \n",
    "#column 'Weekday' in the DataFrame. The 'Weekday' column should contain the weekday name (e.g. \n",
    "#Monday, Tuesday) corresponding to each date in the 'Date' column\n",
    "#Your function should create the following DataFrame:\n",
    "    #Date    Weekday\n",
    "#0  2023-01-01    Sunday\n",
    "#1  2023-01-02     Monday\n",
    "#2  2023-01-03    Tuesday\n",
    "#3  2023-01-04    Wednesday\n",
    "#4  2023-01-05    Thursday\n",
    "#The function should return the modified DataFrame."
   ]
  },
  {
   "cell_type": "code",
   "execution_count": 43,
   "id": "0eb97fd3-172c-4fc9-ae2a-8f0933272877",
   "metadata": {},
   "outputs": [
    {
     "name": "stdout",
     "output_type": "stream",
     "text": [
      "        Date    Weekday\n",
      "0 2023-01-01     Sunday\n",
      "1 2023-01-02     Monday\n",
      "2 2023-01-03    Tuesday\n",
      "3 2023-01-04  Wednesday\n",
      "4 2023-01-05   Thursday\n"
     ]
    }
   ],
   "source": [
    "Data1 = {'Date': ['2023-01-01', '2023-01-02', '2023-01-03', '2023-01-04', '2023-01-05']}\n",
    "df = pd.DataFrame(Data1)\n",
    "df['Date'] = pd.to_datetime(df['Date']) \n",
    "def add_weekday_column(df):\n",
    "    df['Weekday'] = df['Date'].dt.strftime('%A')\n",
    "    return df\n",
    "\n",
    "\n",
    "df = add_weekday_column(df)\n",
    "\n",
    "\n",
    "print(df)\n"
   ]
  },
  {
   "cell_type": "code",
   "execution_count": null,
   "id": "5fd39868-b95e-4c98-b041-2eced05f03e1",
   "metadata": {},
   "outputs": [],
   "source": []
  },
  {
   "cell_type": "code",
   "execution_count": 44,
   "id": "acd5d059-e082-4d51-9ad8-49a5afb7f18b",
   "metadata": {},
   "outputs": [],
   "source": [
    "#Q12. Given a Pandas DataFrame df with a column 'Date' that contains timestamps, write a Python \n",
    "#function to select all rows where the date is between '2023-01-01' and '2023-01-31'"
   ]
  },
  {
   "cell_type": "code",
   "execution_count": null,
   "id": "32776bc5-8b00-438c-82a5-09f2879ac7d3",
   "metadata": {},
   "outputs": [],
   "source": [
    "data = {'Date': ['2023-01-01', '2023-01-15', '2023-01-20', '2023-02-05', '2023-01-10']}\n",
    "df = pd.DataFrame(data)\n",
    "df['Date'] = pd.to_datetime(df['Date']) \n",
    "\n",
    "def filter_by_date(df, start_date='2023-01-01', end_date='2023-01-31'):\n",
    "  \n",
    "    filtered_df = df[(df['Date'] >= start_date) & (df['Date'] <= end_date)]\n",
    "    return filtered_df\n",
    "\n",
    "\n",
    "filtered_rows = filter_by_date(df, start_date='2023-01-01', end_date='2023-01-31')\n",
    "\n",
    "\n",
    "print(filtered_rows)"
   ]
  }
 ],
 "metadata": {
  "kernelspec": {
   "display_name": "Python 3 (ipykernel)",
   "language": "python",
   "name": "python3"
  },
  "language_info": {
   "codemirror_mode": {
    "name": "ipython",
    "version": 3
   },
   "file_extension": ".py",
   "mimetype": "text/x-python",
   "name": "python",
   "nbconvert_exporter": "python",
   "pygments_lexer": "ipython3",
   "version": "3.10.8"
  }
 },
 "nbformat": 4,
 "nbformat_minor": 5
}
