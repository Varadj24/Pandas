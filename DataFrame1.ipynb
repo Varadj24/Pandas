{
 "cells": [
  {
   "cell_type": "code",
   "execution_count": 1,
   "id": "0f581a50-8486-4435-8202-211a8a5049b9",
   "metadata": {},
   "outputs": [],
   "source": [
    "#Q1.Create a Pandas Series that contains the following data: 4, 8, 15, 16, 23, and 42. Then, print the series."
   ]
  },
  {
   "cell_type": "code",
   "execution_count": 2,
   "id": "64231aff-9b31-43c4-ad19-c9ec8fbb76d2",
   "metadata": {},
   "outputs": [],
   "source": [
    "import  pandas as pd"
   ]
  },
  {
   "cell_type": "code",
   "execution_count": 3,
   "id": "8338a523-8e3f-4499-9ad3-aa8046327537",
   "metadata": {},
   "outputs": [],
   "source": [
    "data = [4,5,6,7,12,45]\n",
    "series = pd.Series(data)"
   ]
  },
  {
   "cell_type": "code",
   "execution_count": 4,
   "id": "a2dacf97-0934-4b85-80a2-3afd3d645f00",
   "metadata": {},
   "outputs": [
    {
     "data": {
      "text/plain": [
       "0     4\n",
       "1     5\n",
       "2     6\n",
       "3     7\n",
       "4    12\n",
       "5    45\n",
       "dtype: int64"
      ]
     },
     "execution_count": 4,
     "metadata": {},
     "output_type": "execute_result"
    }
   ],
   "source": [
    "series"
   ]
  },
  {
   "cell_type": "code",
   "execution_count": null,
   "id": "cade0780-d059-4d25-9269-46cc1ad0d3f7",
   "metadata": {},
   "outputs": [],
   "source": []
  },
  {
   "cell_type": "code",
   "execution_count": 5,
   "id": "4cb5a4a0-d3f9-4cef-9ceb-82758c302d21",
   "metadata": {},
   "outputs": [],
   "source": [
    "#Q2.Create a variable of list type containing 10 elements in it, and apply pandas.Series function on the variable print it."
   ]
  },
  {
   "cell_type": "code",
   "execution_count": 6,
   "id": "b8328955-f797-4271-a682-c013cc4a3c02",
   "metadata": {},
   "outputs": [],
   "source": [
    "data_list = [1,2,3,4,5,6,7,8,9,10]\n",
    "list1 = pd.Series(data_list)"
   ]
  },
  {
   "cell_type": "code",
   "execution_count": 7,
   "id": "bbb8fa93-2479-4cf3-be5d-75867d3214ec",
   "metadata": {},
   "outputs": [
    {
     "data": {
      "text/plain": [
       "0     1\n",
       "1     2\n",
       "2     3\n",
       "3     4\n",
       "4     5\n",
       "5     6\n",
       "6     7\n",
       "7     8\n",
       "8     9\n",
       "9    10\n",
       "dtype: int64"
      ]
     },
     "execution_count": 7,
     "metadata": {},
     "output_type": "execute_result"
    }
   ],
   "source": [
    "list1 "
   ]
  },
  {
   "cell_type": "code",
   "execution_count": 8,
   "id": "455471f0-eef3-4c1f-b9a4-4d3b6c7997f8",
   "metadata": {},
   "outputs": [],
   "source": [
    "#Q3Create a Pandas DataFrame that contains the following data:\n",
    "#name :- alice , bob , claire \n",
    "#age :- 25,30,27\n",
    "#gender = female , male, female\n",
    "#then , print the dataframe"
   ]
  },
  {
   "cell_type": "code",
   "execution_count": 11,
   "id": "802e32eb-cf4d-49e2-acf5-45d98413538d",
   "metadata": {},
   "outputs": [],
   "source": [
    "data1 = {'name' : ['alica' , 'bob' , 'claire'],\n",
    "        'Age': [25, 30, 27],\n",
    "        'Gender' : ['female' , 'male' , 'female']}\n",
    "\n",
    "df = pd.DataFrame(data1)"
   ]
  },
  {
   "cell_type": "code",
   "execution_count": 12,
   "id": "e059429e-7d7b-4670-b2d8-f61d6c8d1a61",
   "metadata": {},
   "outputs": [
    {
     "data": {
      "text/html": [
       "<div>\n",
       "<style scoped>\n",
       "    .dataframe tbody tr th:only-of-type {\n",
       "        vertical-align: middle;\n",
       "    }\n",
       "\n",
       "    .dataframe tbody tr th {\n",
       "        vertical-align: top;\n",
       "    }\n",
       "\n",
       "    .dataframe thead th {\n",
       "        text-align: right;\n",
       "    }\n",
       "</style>\n",
       "<table border=\"1\" class=\"dataframe\">\n",
       "  <thead>\n",
       "    <tr style=\"text-align: right;\">\n",
       "      <th></th>\n",
       "      <th>name</th>\n",
       "      <th>Age</th>\n",
       "      <th>Gender</th>\n",
       "    </tr>\n",
       "  </thead>\n",
       "  <tbody>\n",
       "    <tr>\n",
       "      <th>0</th>\n",
       "      <td>alica</td>\n",
       "      <td>25</td>\n",
       "      <td>female</td>\n",
       "    </tr>\n",
       "    <tr>\n",
       "      <th>1</th>\n",
       "      <td>bob</td>\n",
       "      <td>30</td>\n",
       "      <td>male</td>\n",
       "    </tr>\n",
       "    <tr>\n",
       "      <th>2</th>\n",
       "      <td>claire</td>\n",
       "      <td>27</td>\n",
       "      <td>female</td>\n",
       "    </tr>\n",
       "  </tbody>\n",
       "</table>\n",
       "</div>"
      ],
      "text/plain": [
       "     name  Age  Gender\n",
       "0   alica   25  female\n",
       "1     bob   30    male\n",
       "2  claire   27  female"
      ]
     },
     "execution_count": 12,
     "metadata": {},
     "output_type": "execute_result"
    }
   ],
   "source": [
    "df"
   ]
  },
  {
   "cell_type": "code",
   "execution_count": null,
   "id": "13ee5fbd-233b-4a5b-abe8-b2d3b36b56a6",
   "metadata": {},
   "outputs": [],
   "source": []
  },
  {
   "cell_type": "code",
   "execution_count": 13,
   "id": "70563393-a9ae-4403-aa73-fbb419dbbfa5",
   "metadata": {},
   "outputs": [],
   "source": [
    "#Q4What is ‘DataFrame’ in pandas and how is it different from pandas.series? Explain with an example."
   ]
  },
  {
   "cell_type": "code",
   "execution_count": null,
   "id": "63cfc6dc-8a9b-48be-ab51-fc13c177ed32",
   "metadata": {},
   "outputs": [],
   "source": [
    "'''1). SERIES :-\n",
    "            A Pandas Series is a one-dimensional labeled array capable of holding data of any type. \n",
    "It can be thought of as a single column of data, along with an index. Series is a basic building \n",
    "block of Pandas and can store homogeneous data types.'''"
   ]
  },
  {
   "cell_type": "code",
   "execution_count": 25,
   "id": "4d0fc927-7b23-4f18-805d-f42a585e2cd8",
   "metadata": {},
   "outputs": [],
   "source": [
    "data2 = [23,22,21,20,19]\n",
    "variable1 = pd.Series(data2)"
   ]
  },
  {
   "cell_type": "code",
   "execution_count": 26,
   "id": "425a8998-b3c7-4d12-8711-948a884849c4",
   "metadata": {},
   "outputs": [
    {
     "data": {
      "text/plain": [
       "0    23\n",
       "1    22\n",
       "2    21\n",
       "3    20\n",
       "4    19\n",
       "dtype: int64"
      ]
     },
     "execution_count": 26,
     "metadata": {},
     "output_type": "execute_result"
    }
   ],
   "source": [
    "variable1"
   ]
  },
  {
   "cell_type": "code",
   "execution_count": null,
   "id": "a28572ac-04a3-40ff-9b41-6c37ba49a166",
   "metadata": {},
   "outputs": [],
   "source": [
    "'''2). DATAFRAME :-\n",
    "           A Pandas DataFrame is a two-dimensional labeled data structure with columns\n",
    "that can be of different data types. It can be thought of as a table, where each \n",
    "column is a Pandas Series. DataFrames are particularly useful for storing and \n",
    "manipulating structured data and are more versatile than Series. DataFrames can be created\n",
    "from various data sources like lists, dictionaries, other Series, or\n",
    "even from external sources like CSV files or databases.'''"
   ]
  },
  {
   "cell_type": "code",
   "execution_count": 27,
   "id": "5e4c36e2-8e6b-4279-b7d8-5151fc11a9ce",
   "metadata": {},
   "outputs": [],
   "source": [
    "dic1 = {'name' : ['varad' , 'darshan' , 'sakshi'],\n",
    "       'age' : [22, 17 , 20],\n",
    "       'gender': ['male' , 'male' , 'female']}"
   ]
  },
  {
   "cell_type": "code",
   "execution_count": 28,
   "id": "c787ba4e-8289-429c-a9d5-182a3944f760",
   "metadata": {},
   "outputs": [],
   "source": [
    "df1 = pd.DataFrame(dic1)"
   ]
  },
  {
   "cell_type": "code",
   "execution_count": 29,
   "id": "24e293af-1aea-4bf7-932a-0d60ec290e84",
   "metadata": {},
   "outputs": [
    {
     "data": {
      "text/html": [
       "<div>\n",
       "<style scoped>\n",
       "    .dataframe tbody tr th:only-of-type {\n",
       "        vertical-align: middle;\n",
       "    }\n",
       "\n",
       "    .dataframe tbody tr th {\n",
       "        vertical-align: top;\n",
       "    }\n",
       "\n",
       "    .dataframe thead th {\n",
       "        text-align: right;\n",
       "    }\n",
       "</style>\n",
       "<table border=\"1\" class=\"dataframe\">\n",
       "  <thead>\n",
       "    <tr style=\"text-align: right;\">\n",
       "      <th></th>\n",
       "      <th>name</th>\n",
       "      <th>age</th>\n",
       "      <th>gender</th>\n",
       "    </tr>\n",
       "  </thead>\n",
       "  <tbody>\n",
       "    <tr>\n",
       "      <th>0</th>\n",
       "      <td>varad</td>\n",
       "      <td>22</td>\n",
       "      <td>male</td>\n",
       "    </tr>\n",
       "    <tr>\n",
       "      <th>1</th>\n",
       "      <td>darshan</td>\n",
       "      <td>17</td>\n",
       "      <td>male</td>\n",
       "    </tr>\n",
       "    <tr>\n",
       "      <th>2</th>\n",
       "      <td>sakshi</td>\n",
       "      <td>20</td>\n",
       "      <td>female</td>\n",
       "    </tr>\n",
       "  </tbody>\n",
       "</table>\n",
       "</div>"
      ],
      "text/plain": [
       "      name  age  gender\n",
       "0    varad   22    male\n",
       "1  darshan   17    male\n",
       "2   sakshi   20  female"
      ]
     },
     "execution_count": 29,
     "metadata": {},
     "output_type": "execute_result"
    }
   ],
   "source": [
    "df1"
   ]
  },
  {
   "cell_type": "code",
   "execution_count": 30,
   "id": "3e0f2ec7-97bc-40cb-95f5-ba8f7945a9de",
   "metadata": {},
   "outputs": [],
   "source": [
    "#Q5What are some common functions you can use to manipulate data in a Pandas DataFrame? Can you give an example of when you might use one of these functions?"
   ]
  },
  {
   "cell_type": "code",
   "execution_count": 33,
   "id": "87234633-2545-4fc8-8ab0-eb6455a27860",
   "metadata": {},
   "outputs": [
    {
     "name": "stdout",
     "output_type": "stream",
     "text": [
      "    name  Age  Gender\n",
      "0  alica   25  female\n",
      "1    bob   30    male\n"
     ]
    }
   ],
   "source": [
    "'''1. head(n) and tail(n)'''\n",
    "print(df.head(2))"
   ]
  },
  {
   "cell_type": "code",
   "execution_count": 34,
   "id": "8a10fe13-8329-43be-ad57-a9fcc16946f7",
   "metadata": {},
   "outputs": [
    {
     "name": "stdout",
     "output_type": "stream",
     "text": [
      "<class 'pandas.core.frame.DataFrame'>\n",
      "RangeIndex: 3 entries, 0 to 2\n",
      "Data columns (total 3 columns):\n",
      " #   Column  Non-Null Count  Dtype \n",
      "---  ------  --------------  ----- \n",
      " 0   name    3 non-null      object\n",
      " 1   Age     3 non-null      int64 \n",
      " 2   Gender  3 non-null      object\n",
      "dtypes: int64(1), object(2)\n",
      "memory usage: 200.0+ bytes\n",
      "None\n"
     ]
    }
   ],
   "source": [
    "'''2. info()'''\n",
    "print(df.info())"
   ]
  },
  {
   "cell_type": "code",
   "execution_count": 35,
   "id": "6748373a-c872-457c-9b00-af02ccc7293c",
   "metadata": {},
   "outputs": [
    {
     "name": "stdout",
     "output_type": "stream",
     "text": [
      "             Age\n",
      "count   3.000000\n",
      "mean   27.333333\n",
      "std     2.516611\n",
      "min    25.000000\n",
      "25%    26.000000\n",
      "50%    27.000000\n",
      "75%    28.500000\n",
      "max    30.000000\n"
     ]
    }
   ],
   "source": [
    "'''3. describe()'''\n",
    "print(df.describe())"
   ]
  },
  {
   "cell_type": "code",
   "execution_count": 37,
   "id": "c26247c1-f02e-4136-a577-335a312c3f7c",
   "metadata": {},
   "outputs": [
    {
     "name": "stdout",
     "output_type": "stream",
     "text": [
      "female    2\n",
      "male      1\n",
      "Name: Gender, dtype: int64\n"
     ]
    }
   ],
   "source": [
    "'''4. value_counts()'''\n",
    "print(df['Gender'].value_counts())"
   ]
  },
  {
   "cell_type": "code",
   "execution_count": 38,
   "id": "a4227f97-0863-48f6-a4bf-f4993513e2ed",
   "metadata": {},
   "outputs": [
    {
     "name": "stdout",
     "output_type": "stream",
     "text": [
      "Gender\n",
      "female    26.0\n",
      "male      30.0\n",
      "Name: Age, dtype: float64\n"
     ]
    }
   ],
   "source": [
    "'''5. groupby()'''\n",
    "print(df.groupby('Gender')['Age'].mean())"
   ]
  },
  {
   "cell_type": "code",
   "execution_count": 39,
   "id": "709127d9-9ff2-4bc8-900a-18ebac9f8a08",
   "metadata": {},
   "outputs": [],
   "source": [
    "'''6. sort_values()'''\n",
    "sorted_df = df.sort_values(by='Age', ascending=False)"
   ]
  },
  {
   "cell_type": "code",
   "execution_count": 40,
   "id": "6d24f893-b0b9-44a8-9de5-d667346c51e7",
   "metadata": {},
   "outputs": [
    {
     "data": {
      "text/html": [
       "<div>\n",
       "<style scoped>\n",
       "    .dataframe tbody tr th:only-of-type {\n",
       "        vertical-align: middle;\n",
       "    }\n",
       "\n",
       "    .dataframe tbody tr th {\n",
       "        vertical-align: top;\n",
       "    }\n",
       "\n",
       "    .dataframe thead th {\n",
       "        text-align: right;\n",
       "    }\n",
       "</style>\n",
       "<table border=\"1\" class=\"dataframe\">\n",
       "  <thead>\n",
       "    <tr style=\"text-align: right;\">\n",
       "      <th></th>\n",
       "      <th>name</th>\n",
       "      <th>Age</th>\n",
       "      <th>Gender</th>\n",
       "    </tr>\n",
       "  </thead>\n",
       "  <tbody>\n",
       "    <tr>\n",
       "      <th>1</th>\n",
       "      <td>bob</td>\n",
       "      <td>30</td>\n",
       "      <td>male</td>\n",
       "    </tr>\n",
       "    <tr>\n",
       "      <th>2</th>\n",
       "      <td>claire</td>\n",
       "      <td>27</td>\n",
       "      <td>female</td>\n",
       "    </tr>\n",
       "    <tr>\n",
       "      <th>0</th>\n",
       "      <td>alica</td>\n",
       "      <td>25</td>\n",
       "      <td>female</td>\n",
       "    </tr>\n",
       "  </tbody>\n",
       "</table>\n",
       "</div>"
      ],
      "text/plain": [
       "     name  Age  Gender\n",
       "1     bob   30    male\n",
       "2  claire   27  female\n",
       "0   alica   25  female"
      ]
     },
     "execution_count": 40,
     "metadata": {},
     "output_type": "execute_result"
    }
   ],
   "source": [
    "sorted_df"
   ]
  },
  {
   "cell_type": "code",
   "execution_count": 41,
   "id": "c9b5b5ec-f855-4d7f-86be-7510870160ca",
   "metadata": {},
   "outputs": [],
   "source": [
    "'''7. fillna()'''\n",
    "df['Age'].fillna(df['Age'].mean(), inplace=True)"
   ]
  },
  {
   "cell_type": "code",
   "execution_count": 42,
   "id": "a3bf5468-5525-4fba-9f2e-8b23c434f2bd",
   "metadata": {},
   "outputs": [
    {
     "data": {
      "text/html": [
       "<div>\n",
       "<style scoped>\n",
       "    .dataframe tbody tr th:only-of-type {\n",
       "        vertical-align: middle;\n",
       "    }\n",
       "\n",
       "    .dataframe tbody tr th {\n",
       "        vertical-align: top;\n",
       "    }\n",
       "\n",
       "    .dataframe thead th {\n",
       "        text-align: right;\n",
       "    }\n",
       "</style>\n",
       "<table border=\"1\" class=\"dataframe\">\n",
       "  <thead>\n",
       "    <tr style=\"text-align: right;\">\n",
       "      <th></th>\n",
       "      <th>name</th>\n",
       "      <th>Age</th>\n",
       "      <th>Gender</th>\n",
       "    </tr>\n",
       "  </thead>\n",
       "  <tbody>\n",
       "    <tr>\n",
       "      <th>0</th>\n",
       "      <td>alica</td>\n",
       "      <td>25</td>\n",
       "      <td>female</td>\n",
       "    </tr>\n",
       "    <tr>\n",
       "      <th>1</th>\n",
       "      <td>bob</td>\n",
       "      <td>30</td>\n",
       "      <td>male</td>\n",
       "    </tr>\n",
       "    <tr>\n",
       "      <th>2</th>\n",
       "      <td>claire</td>\n",
       "      <td>27</td>\n",
       "      <td>female</td>\n",
       "    </tr>\n",
       "  </tbody>\n",
       "</table>\n",
       "</div>"
      ],
      "text/plain": [
       "     name  Age  Gender\n",
       "0   alica   25  female\n",
       "1     bob   30    male\n",
       "2  claire   27  female"
      ]
     },
     "execution_count": 42,
     "metadata": {},
     "output_type": "execute_result"
    }
   ],
   "source": [
    "df"
   ]
  },
  {
   "cell_type": "code",
   "execution_count": null,
   "id": "f2acd22a-2e02-4019-b9cf-0f4cf2cd9065",
   "metadata": {},
   "outputs": [],
   "source": []
  },
  {
   "cell_type": "code",
   "execution_count": 43,
   "id": "d6dbe9c8-696a-42aa-bd15-3df1f4cdd919",
   "metadata": {},
   "outputs": [],
   "source": [
    "#Q6. Which of the following is mutable in nature Series, DataFrame, Panel?"
   ]
  },
  {
   "cell_type": "code",
   "execution_count": null,
   "id": "9da31f0e-d341-46c3-8e43-5dd5abf9a969",
   "metadata": {},
   "outputs": [],
   "source": [
    "'''In Pandas, both Series and DataFrame are mutable, meaning you can modify \n",
    "their values, add or remove elements, and perform various operations \n",
    "that change the content of the Series or DataFrame after they are created.\n",
    "However, Panels are not mutable. Panels were a data structure in earlier \n",
    "versions of Pandas (before version 0.25) that allowed you to handle 3D data, \n",
    "but they have been removed from the latest versions of Pandas. Therefore,\n",
    "as of recent versions of Pandas, Series and DataFrame are the primary mutable data structures.'''"
   ]
  },
  {
   "cell_type": "code",
   "execution_count": null,
   "id": "812c7b8d-5947-47e4-9f9d-67d85a32032d",
   "metadata": {},
   "outputs": [],
   "source": []
  },
  {
   "cell_type": "code",
   "execution_count": 44,
   "id": "0e8c48f6-ffb9-411f-8f12-ff4aa6fc8df4",
   "metadata": {},
   "outputs": [],
   "source": [
    "#Q7. Create a DataFrame using multiple Series. Explain with an example."
   ]
  },
  {
   "cell_type": "code",
   "execution_count": null,
   "id": "57a5afe6-b32f-494d-9f80-1f8ea99964d1",
   "metadata": {},
   "outputs": [],
   "source": [
    "names1 = pd.Series(['Alice', 'Bob', 'Claire'])\n",
    "ages1 = pd.Series([25, 30, 27])\n",
    "genders1 = pd.Series(['Female', 'Male', 'Female'])\n",
    "\n",
    "data4 = {\n",
    "    'Name': names1,\n",
    "    'Age': ages1,\n",
    "    'Gender': genders1\n",
    "}\n",
    "\n",
    "df3 = pd.DataFrame(data)"
   ]
  }
 ],
 "metadata": {
  "kernelspec": {
   "display_name": "Python 3 (ipykernel)",
   "language": "python",
   "name": "python3"
  },
  "language_info": {
   "codemirror_mode": {
    "name": "ipython",
    "version": 3
   },
   "file_extension": ".py",
   "mimetype": "text/x-python",
   "name": "python",
   "nbconvert_exporter": "python",
   "pygments_lexer": "ipython3",
   "version": "3.10.8"
  }
 },
 "nbformat": 4,
 "nbformat_minor": 5
}
